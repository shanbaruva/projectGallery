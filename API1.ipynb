{
  "nbformat": 4,
  "nbformat_minor": 0,
  "metadata": {
    "colab": {
      "provenance": [],
      "authorship_tag": "ABX9TyMOhv44eSwqCKwAP6RxGL40",
      "include_colab_link": true
    },
    "kernelspec": {
      "name": "python3",
      "display_name": "Python 3"
    },
    "language_info": {
      "name": "python"
    }
  },
  "cells": [
    {
      "cell_type": "markdown",
      "metadata": {
        "id": "view-in-github",
        "colab_type": "text"
      },
      "source": [
        "<a href=\"https://colab.research.google.com/github/shanbaruva/projectGallery/blob/master/API1.ipynb\" target=\"_parent\"><img src=\"https://colab.research.google.com/assets/colab-badge.svg\" alt=\"Open In Colab\"/></a>"
      ]
    },
    {
      "cell_type": "code",
      "execution_count": 1,
      "metadata": {
        "id": "Wt_Elzs-yFNt"
      },
      "outputs": [],
      "source": [
        "import requests"
      ]
    },
    {
      "cell_type": "code",
      "source": [
        "data = requests.get('https://catfact.ninja/fact')"
      ],
      "metadata": {
        "id": "cRk-Bao8yzAI"
      },
      "execution_count": 2,
      "outputs": []
    },
    {
      "cell_type": "code",
      "source": [
        "print(data)"
      ],
      "metadata": {
        "colab": {
          "base_uri": "https://localhost:8080/"
        },
        "id": "Y45lJS2o0DhH",
        "outputId": "c1d00bba-5c14-4704-e2db-d7ed62bf9d96"
      },
      "execution_count": 3,
      "outputs": [
        {
          "output_type": "stream",
          "name": "stdout",
          "text": [
            "<Response [200]>\n"
          ]
        }
      ]
    },
    {
      "cell_type": "markdown",
      "source": [
        "<Response [200]> = the request is successful\n",
        "<Response [404]> = error or the suever is not found\n",
        "<Response [505]> = error for the user side\n",
        "\n"
      ],
      "metadata": {
        "id": "MfyEx2Y70IJt"
      }
    },
    {
      "cell_type": "code",
      "source": [
        "print(data.text)"
      ],
      "metadata": {
        "colab": {
          "base_uri": "https://localhost:8080/"
        },
        "id": "6VqfJ7JS0_JL",
        "outputId": "8a33ff10-1a94-4246-cc6b-297fdaeec73b"
      },
      "execution_count": 4,
      "outputs": [
        {
          "output_type": "stream",
          "name": "stdout",
          "text": [
            "{\"fact\":\"When a cat chases its prey, it keeps its head level. Dogs and humans bob their heads up and down.\",\"length\":97}\n"
          ]
        }
      ]
    },
    {
      "cell_type": "code",
      "source": [
        "print(type(data.text))"
      ],
      "metadata": {
        "colab": {
          "base_uri": "https://localhost:8080/"
        },
        "id": "K060iUni1kUO",
        "outputId": "0a72e0a9-14ef-4a69-fa53-b6c9eab0b696"
      },
      "execution_count": 5,
      "outputs": [
        {
          "output_type": "stream",
          "name": "stdout",
          "text": [
            "<class 'str'>\n"
          ]
        }
      ]
    },
    {
      "cell_type": "code",
      "source": [
        "cat_fact = data.text"
      ],
      "metadata": {
        "id": "ljQllBAy1vvh"
      },
      "execution_count": 8,
      "outputs": []
    },
    {
      "cell_type": "code",
      "source": [
        "print(cat_fact)"
      ],
      "metadata": {
        "colab": {
          "base_uri": "https://localhost:8080/"
        },
        "id": "I3fK04bE15g_",
        "outputId": "61f8c9a7-b1fc-417d-847b-9933b2420825"
      },
      "execution_count": 9,
      "outputs": [
        {
          "output_type": "stream",
          "name": "stdout",
          "text": [
            "{\"fact\":\"When a cat chases its prey, it keeps its head level. Dogs and humans bob their heads up and down.\",\"length\":97}\n"
          ]
        }
      ]
    },
    {
      "cell_type": "code",
      "source": [
        "a = requests.get('https://catfact.ninja/fact')"
      ],
      "metadata": {
        "id": "PwJjoNRU74V6"
      },
      "execution_count": 10,
      "outputs": []
    },
    {
      "cell_type": "code",
      "source": [
        "if a.status_code == 200:\n",
        "  print(a.text)\n",
        "\n",
        "else:\n",
        "    print('Error')\n"
      ],
      "metadata": {
        "colab": {
          "base_uri": "https://localhost:8080/"
        },
        "id": "QQUd-mDn8TXZ",
        "outputId": "db93640a-f0c1-4e3e-cc90-5a89e4f553af"
      },
      "execution_count": 12,
      "outputs": [
        {
          "output_type": "stream",
          "name": "stdout",
          "text": [
            "{\"fact\":\"Cats can be right-pawed or left-pawed.\",\"length\":38}\n"
          ]
        }
      ]
    }
  ]
}